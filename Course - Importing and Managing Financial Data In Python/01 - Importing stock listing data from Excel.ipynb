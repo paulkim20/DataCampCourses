{
 "cells": [
  {
   "cell_type": "code",
   "execution_count": 5,
   "metadata": {
    "collapsed": true
   },
   "outputs": [],
   "source": [
    "import pandas as pd"
   ]
  },
  {
   "cell_type": "code",
   "execution_count": 8,
   "metadata": {
    "collapsed": false
   },
   "outputs": [],
   "source": [
    "# Import CSV data changing 'n/a' values to numpy nan, parsing dates \n",
    "amex = pd.read_csv('amex-listings.csv', na_values = 'n/a', parse_dates = ['Last Update'])"
   ]
  },
  {
   "cell_type": "code",
   "execution_count": 16,
   "metadata": {
    "collapsed": false
   },
   "outputs": [
    {
     "name": "stdout",
     "output_type": "stream",
     "text": [
      "<class 'pandas.core.frame.DataFrame'>\n",
      "RangeIndex: 360 entries, 0 to 359\n",
      "Data columns (total 8 columns):\n",
      "Stock Symbol             360 non-null object\n",
      "Company Name             360 non-null object\n",
      "Last Sale                346 non-null float64\n",
      "Market Capitalization    360 non-null float64\n",
      "IPO Year                 105 non-null float64\n",
      "Sector                   238 non-null object\n",
      "Industry                 238 non-null object\n",
      "Last Update              360 non-null datetime64[ns]\n",
      "dtypes: datetime64[ns](1), float64(3), object(4)\n",
      "memory usage: 22.6+ KB\n",
      "None \n",
      "\n",
      "     Stock Symbol                                       Company Name  \\\n",
      "0            XXII                            22nd Century Group, Inc   \n",
      "1             FAX              Aberdeen Asia-Pacific Income Fund Inc   \n",
      "2             IAF                 Aberdeen Australia Equity Fund Inc   \n",
      "3              CH                          Aberdeen Chile Fund, Inc.   \n",
      "4  ABE             Aberdeen Emerging Markets Smaller Company Oppo...   \n",
      "\n",
      "   Last Sale  Market Capitalization  IPO Year                 Sector  \\\n",
      "0     1.3300           1.206285e+08       NaN  Consumer Non-Durables   \n",
      "1     5.0000           1.266333e+09    1986.0                    NaN   \n",
      "2     6.1500           1.398653e+08       NaN                    NaN   \n",
      "3     7.2201           6.756346e+07       NaN                    NaN   \n",
      "4    13.3600           1.288430e+08       NaN                    NaN   \n",
      "\n",
      "                Industry Last Update  \n",
      "0  Farming/Seeds/Milling  2017-04-26  \n",
      "1                    NaN  2017-04-25  \n",
      "2                    NaN  2017-04-23  \n",
      "3                    NaN  2017-04-26  \n",
      "4                    NaN  2017-04-25  \n"
     ]
    }
   ],
   "source": [
    "# Show info about data and first 5 rows\n",
    "print(amex.info(),'\\n')\n",
    "print(amex.head())"
   ]
  },
  {
   "cell_type": "code",
   "execution_count": 20,
   "metadata": {
    "collapsed": false
   },
   "outputs": [
    {
     "name": "stdout",
     "output_type": "stream",
     "text": [
      "  Stock Symbol           Company Name  Last Sale  Market Capitalization  \\\n",
      "0         AAPL             Apple Inc.     141.05           7.400000e+11   \n",
      "1        GOOGL          Alphabet Inc.     840.18           5.810000e+11   \n",
      "2         GOOG          Alphabet Inc.     823.56           5.690000e+11   \n",
      "3         MSFT  Microsoft Corporation      64.95           5.020000e+11   \n",
      "4         AMZN       Amazon.com, Inc.     884.67           4.220000e+11   \n",
      "5           FB         Facebook, Inc.     139.39           4.030000e+11   \n",
      "6        CMCSA    Comcast Corporation      37.14           1.760000e+11   \n",
      "7         INTC      Intel Corporation      35.25           1.660000e+11   \n",
      "8         CSCO    Cisco Systems, Inc.      32.42           1.620000e+11   \n",
      "9         AMGN             Amgen Inc.     161.61           1.190000e+11   \n",
      "\n",
      "   IPO Year             Sector  \\\n",
      "0    1980.0         Technology   \n",
      "1       NaN         Technology   \n",
      "2    2004.0         Technology   \n",
      "3    1986.0         Technology   \n",
      "4    1997.0  Consumer Services   \n",
      "5    2012.0         Technology   \n",
      "6       NaN  Consumer Services   \n",
      "7       NaN         Technology   \n",
      "8    1990.0         Technology   \n",
      "9    1983.0        Health Care   \n",
      "\n",
      "                                            Industry Last Update  \n",
      "0                             Computer Manufacturing  2017-04-26  \n",
      "1    Computer Software: Programming, Data Processing  2017-04-24  \n",
      "2    Computer Software: Programming, Data Processing  2017-04-23  \n",
      "3            Computer Software: Prepackaged Software  2017-04-26  \n",
      "4                     Catalog/Specialty Distribution  2017-04-24  \n",
      "5    Computer Software: Programming, Data Processing  2017-04-26  \n",
      "6                                Television Services  2017-04-26  \n",
      "7                                     Semiconductors  2017-04-23  \n",
      "8                  Computer Communications Equipment  2017-04-23  \n",
      "9  Biotechnology: Biological Products (No Diagnos...  2017-04-24   \n",
      "\n",
      "<class 'pandas.core.frame.DataFrame'>\n",
      "RangeIndex: 1115 entries, 0 to 1114\n",
      "Data columns (total 8 columns):\n",
      "Stock Symbol             1115 non-null object\n",
      "Company Name             1115 non-null object\n",
      "Last Sale                1115 non-null float64\n",
      "Market Capitalization    1115 non-null float64\n",
      "IPO Year                 593 non-null float64\n",
      "Sector                   1036 non-null object\n",
      "Industry                 1036 non-null object\n",
      "Last Update              1115 non-null datetime64[ns]\n",
      "dtypes: datetime64[ns](1), float64(3), object(4)\n",
      "memory usage: 69.8+ KB\n"
     ]
    }
   ],
   "source": [
    "# Import the CSV data\n",
    "nasdaq = pd.read_csv('nasdaq-listings.csv', na_values = 'NAN', parse_dates = ['Last Update'])\n",
    "\n",
    "# Display first 10 rows\n",
    "print(nasdaq.head(10), '\\n')\n",
    "\n",
    "# Inspect nasdaq\n",
    "nasdaq.info()"
   ]
  },
  {
   "cell_type": "code",
   "execution_count": 22,
   "metadata": {
    "collapsed": false
   },
   "outputs": [
    {
     "name": "stdout",
     "output_type": "stream",
     "text": [
      "  Stock Symbol            Company Name  Last Sale  Market Capitalization  \\\n",
      "0          DDD  3D Systems Corporation      14.48           1.647165e+09   \n",
      "1          MMM              3M Company     188.65           1.127366e+11   \n",
      "2         WBAI         500.com Limited      13.96           5.793129e+08   \n",
      "3         WUBA             58.com Inc.      36.11           5.225238e+09   \n",
      "4          AHC   A.H. Belo Corporation       6.20           1.347351e+08   \n",
      "\n",
      "   IPO Year             Sector  \\\n",
      "0       NaN         Technology   \n",
      "1       NaN        Health Care   \n",
      "2    2013.0  Consumer Services   \n",
      "3    2013.0         Technology   \n",
      "4       NaN  Consumer Services   \n",
      "\n",
      "                                          Industry  \n",
      "0          Computer Software: Prepackaged Software  \n",
      "1                       Medical/Dental Instruments  \n",
      "2            Services-Misc. Amusement & Recreation  \n",
      "3  Computer Software: Programming, Data Processing  \n",
      "4                             Newspapers/Magazines   \n",
      "\n",
      "<class 'pandas.core.frame.DataFrame'>\n",
      "RangeIndex: 3147 entries, 0 to 3146\n",
      "Data columns (total 7 columns):\n",
      "Stock Symbol             3147 non-null object\n",
      "Company Name             3147 non-null object\n",
      "Last Sale                3079 non-null float64\n",
      "Market Capitalization    3147 non-null float64\n",
      "IPO Year                 1361 non-null float64\n",
      "Sector                   2177 non-null object\n",
      "Industry                 2177 non-null object\n",
      "dtypes: float64(3), object(4)\n",
      "memory usage: 172.2+ KB\n"
     ]
    }
   ],
   "source": [
    "# Import the EXCEL data\n",
    "nyse = pd.read_excel('listings.xlsx', sheetname = 'nyse', na_values = 'n/a')\n",
    "\n",
    "# Display the head of the data\n",
    "print(nyse.head(), '\\n')\n",
    "\n",
    "# Inspect the data\n",
    "nyse.info()"
   ]
  },
  {
   "cell_type": "code",
   "execution_count": 26,
   "metadata": {
    "collapsed": false
   },
   "outputs": [
    {
     "name": "stdout",
     "output_type": "stream",
     "text": [
      "<class 'pandas.core.frame.DataFrame'>\n",
      "RangeIndex: 3167 entries, 0 to 3166\n",
      "Data columns (total 7 columns):\n",
      "Stock Symbol             3167 non-null object\n",
      "Company Name             3167 non-null object\n",
      "Last Sale                3165 non-null float64\n",
      "Market Capitalization    3167 non-null float64\n",
      "IPO Year                 1386 non-null float64\n",
      "Sector                   2767 non-null object\n",
      "Industry                 2767 non-null object\n",
      "dtypes: float64(3), object(4)\n",
      "memory usage: 173.3+ KB\n"
     ]
    }
   ],
   "source": [
    "# Create pd.ExcelFile() object\n",
    "xls = pd.ExcelFile('listings.xlsx')\n",
    "\n",
    "# Extract sheet names and store in exchanges\n",
    "exchanges = xls.sheet_names\n",
    "\n",
    "# Create listings dictionary with all sheet data\n",
    "listings = pd.read_excel(xls, sheetname=exchanges, na_values='n/a')\n",
    "\n",
    "# Inspect NASDAQ listings\n",
    "listings['nasdaq'].info()"
   ]
  },
  {
   "cell_type": "code",
   "execution_count": 29,
   "metadata": {
    "collapsed": false
   },
   "outputs": [
    {
     "name": "stdout",
     "output_type": "stream",
     "text": [
      "<class 'pandas.core.frame.DataFrame'>\n",
      "RangeIndex: 3147 entries, 0 to 3146\n",
      "Data columns (total 7 columns):\n",
      "Stock Symbol             3147 non-null object\n",
      "Company Name             3147 non-null object\n",
      "Last Sale                3079 non-null float64\n",
      "Market Capitalization    3147 non-null float64\n",
      "IPO Year                 1361 non-null float64\n",
      "Sector                   2177 non-null object\n",
      "Industry                 2177 non-null object\n",
      "dtypes: float64(3), object(4)\n",
      "memory usage: 172.2+ KB\n",
      "\n",
      "<class 'pandas.core.frame.DataFrame'>\n",
      "RangeIndex: 3167 entries, 0 to 3166\n",
      "Data columns (total 7 columns):\n",
      "Stock Symbol             3167 non-null object\n",
      "Company Name             3167 non-null object\n",
      "Last Sale                3165 non-null float64\n",
      "Market Capitalization    3167 non-null float64\n",
      "IPO Year                 1386 non-null float64\n",
      "Sector                   2767 non-null object\n",
      "Industry                 2767 non-null object\n",
      "dtypes: float64(3), object(4)\n",
      "memory usage: 173.3+ KB\n",
      "\n",
      "<class 'pandas.core.frame.DataFrame'>\n",
      "Int64Index: 6314 entries, 0 to 3166\n",
      "Data columns (total 8 columns):\n",
      "Stock Symbol             6314 non-null object\n",
      "Company Name             6314 non-null object\n",
      "Last Sale                6244 non-null float64\n",
      "Market Capitalization    6314 non-null float64\n",
      "IPO Year                 2747 non-null float64\n",
      "Sector                   4944 non-null object\n",
      "Industry                 4944 non-null object\n",
      "Exchange                 6314 non-null object\n",
      "dtypes: float64(3), object(5)\n",
      "memory usage: 444.0+ KB\n",
      "None\n"
     ]
    }
   ],
   "source": [
    "# Import the NYSE and NASDAQ listings\n",
    "nyse = pd.read_excel('listings.xlsx', sheetname='nyse', na_values='n/a')\n",
    "nasdaq = pd.read_excel('listings.xlsx', sheetname='nasdaq', na_values='n/a')\n",
    "\n",
    "# Inspect nyse and nasdaq\n",
    "nyse.info()\n",
    "print()\n",
    "nasdaq.info()\n",
    "print()\n",
    "\n",
    "# Add Exchange reference columns\n",
    "nyse['Exchange'] = 'NYSE'\n",
    "nasdaq['Exchange'] = 'NASDAQ'\n",
    "\n",
    "# Concatenate DataFrames  \n",
    "combined_listings = pd.concat([nyse, nasdaq]) \n",
    "print(combined_listings.info())"
   ]
  },
  {
   "cell_type": "code",
   "execution_count": 30,
   "metadata": {
    "collapsed": false
   },
   "outputs": [
    {
     "name": "stdout",
     "output_type": "stream",
     "text": [
      "<class 'pandas.core.frame.DataFrame'>\n",
      "Int64Index: 6674 entries, 0 to 3146\n",
      "Data columns (total 8 columns):\n",
      "Stock Symbol             6674 non-null object\n",
      "Company Name             6674 non-null object\n",
      "Last Sale                6590 non-null float64\n",
      "Market Capitalization    6674 non-null float64\n",
      "IPO Year                 2852 non-null float64\n",
      "Sector                   5182 non-null object\n",
      "Industry                 5182 non-null object\n",
      "Exchange                 6674 non-null object\n",
      "dtypes: float64(3), object(5)\n",
      "memory usage: 469.3+ KB\n"
     ]
    }
   ],
   "source": [
    "# Example of auto concating for many sheets\n",
    "# Create the pd.ExcelFile() object\n",
    "xls = pd.ExcelFile('listings.xlsx')\n",
    "\n",
    "# Extract the sheet names from xls\n",
    "exchanges = xls.sheet_names\n",
    "\n",
    "# Create an empty list: listings\n",
    "listings = []\n",
    "\n",
    "# Import the data\n",
    "for exchange in exchanges:\n",
    "    listing = pd.read_excel(xls, sheetname=exchange, na_values='n/a')\n",
    "    listing['Exchange'] = exchange\n",
    "    listings.append(listing)\n",
    "\n",
    "# Concatenate the listings: listing_data\n",
    "listing_data = pd.concat(listings)\n",
    "\n",
    "# Inspect the results\n",
    "listing_data.info()"
   ]
  }
 ],
 "metadata": {
  "anaconda-cloud": {},
  "kernelspec": {
   "display_name": "Python [Root]",
   "language": "python",
   "name": "Python [Root]"
  },
  "language_info": {
   "codemirror_mode": {
    "name": "ipython",
    "version": 3
   },
   "file_extension": ".py",
   "mimetype": "text/x-python",
   "name": "python",
   "nbconvert_exporter": "python",
   "pygments_lexer": "ipython3",
   "version": "3.5.2"
  }
 },
 "nbformat": 4,
 "nbformat_minor": 0
}
